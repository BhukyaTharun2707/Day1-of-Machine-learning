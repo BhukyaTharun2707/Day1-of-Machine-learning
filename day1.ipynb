{
 "cells": [
  {
   "cell_type": "code",
   "execution_count": 1,
   "id": "905d4bee-6701-48f3-b96e-c5d78e234131",
   "metadata": {},
   "outputs": [
    {
     "name": "stdout",
     "output_type": "stream",
     "text": [
      "10\n",
      "5.4\n",
      "tharun\n",
      "<class 'int'>\n",
      "<class 'float'>\n",
      "<class 'str'>\n",
      "20\n",
      "16\n",
      "9.0\n",
      "9\n",
      "36\n",
      "324\n",
      "7\n",
      "3\n",
      "True\n",
      "even\n",
      "not odd\n"
     ]
    }
   ],
   "source": [
    "# variables\n",
    "a=10\n",
    "b=5.4\n",
    "c=\"tharun\"\n",
    "print(a)\n",
    "print(b)\n",
    "print(c)\n",
    "print(type(a))\n",
    "print(type(b))\n",
    "print(type(c))\n",
    "\n",
    "# operators +,-,*,/,//,**,%\n",
    "a=18\n",
    "b=2\n",
    "print(a+b)\n",
    "print(a-b)\n",
    "print(a/b)\n",
    "print(a//b)\n",
    "print(a*b)\n",
    "print(a**b)\n",
    "\n",
    "# logical operators\n",
    "# not,or,and\n",
    "a=3\n",
    "b=4\n",
    "print(a|b)\n",
    "print(a)\n",
    "rain = False\n",
    "playing = not rain\n",
    "print(playing)\n",
    "\n",
    "\n",
    "##if_else\n",
    "a=10\n",
    "if a%2==0:\n",
    "    print(\"even\")\n",
    "    print(\"not odd\")\n",
    "else:\n",
    "    print(\"odd\")"
   ]
  },
  {
   "cell_type": "code",
   "execution_count": 2,
   "id": "7208c6b5-4dc9-4de9-b7cc-37ac71603b6a",
   "metadata": {},
   "outputs": [
    {
     "name": "stdout",
     "output_type": "stream",
     "text": [
      " 5\n"
     ]
    },
    {
     "name": "stdout",
     "output_type": "stream",
     "text": [
      "Two\n"
     ]
    }
   ],
   "source": [
    "a = int(input())\n",
    "if a % 3==0:\n",
    "    print(\"zero\")\n",
    "elif a % 3==1:\n",
    "    print(\"one\")\n",
    "else:\n",
    "    print(\"Two\")"
   ]
  },
  {
   "cell_type": "code",
   "execution_count": 14,
   "id": "6ccc713f-fa0b-403b-ac17-be700aaef6db",
   "metadata": {},
   "outputs": [
    {
     "name": "stdout",
     "output_type": "stream",
     "text": [
      "[0, 1, 2, 3, 4, 5, 6, 7, 8, 9]\n",
      "[0, 3, 6, 9, 12, 15, 18, 21, 24, 27]\n",
      "2\n",
      "4\n",
      "6\n",
      "8\n",
      "10\n",
      "12\n",
      "14\n",
      "16\n",
      "18\n",
      "20\n"
     ]
    }
   ],
   "source": [
    "\n",
    "#loops\n",
    "a=list(range(10))\n",
    "print(a)\n",
    "\n",
    "\n",
    "#increment\n",
    "b=list(range(0,30,3))\n",
    "print(b)\n",
    "\n",
    "\n",
    "#tables\n",
    "for i in range(2,21,2):\n",
    "    print(i)\n",
    "\n",
    "\n",
    "\n"
   ]
  },
  {
   "cell_type": "code",
   "execution_count": 15,
   "id": "ee615673",
   "metadata": {},
   "outputs": [
    {
     "ename": "ValueError",
     "evalue": "invalid literal for int() with base 10: 'Escape'",
     "output_type": "error",
     "traceback": [
      "\u001b[1;31m---------------------------------------------------------------------------\u001b[0m",
      "\u001b[1;31mValueError\u001b[0m                                Traceback (most recent call last)",
      "Cell \u001b[1;32mIn[15], line 3\u001b[0m\n\u001b[0;32m      1\u001b[0m \u001b[38;5;66;03m#prime or not prime\u001b[39;00m\n\u001b[1;32m----> 3\u001b[0m case\u001b[38;5;241m=\u001b[39m\u001b[38;5;28;43mint\u001b[39;49m\u001b[43m(\u001b[49m\u001b[38;5;28;43minput\u001b[39;49m\u001b[43m(\u001b[49m\u001b[43m)\u001b[49m\u001b[43m)\u001b[49m\n\u001b[0;32m      4\u001b[0m flag\u001b[38;5;241m=\u001b[39m\u001b[38;5;28;01mTrue\u001b[39;00m\n\u001b[0;32m      5\u001b[0m \u001b[38;5;28;01mfor\u001b[39;00m i \u001b[38;5;129;01min\u001b[39;00m \u001b[38;5;28mrange\u001b[39m(\u001b[38;5;241m2\u001b[39m,c):\n",
      "\u001b[1;31mValueError\u001b[0m: invalid literal for int() with base 10: 'Escape'"
     ]
    }
   ],
   "source": [
    "#prime or not prime\n",
    "\n",
    "case=int(input())\n",
    "flag=True\n",
    "for i in range(2,c):\n",
    "    if a%i==0:\n",
    "        print(\"Not prime\")\n",
    "        flag=False\n",
    "        break\n",
    "if flag==True:\n",
    "    print(\"prime\")"
   ]
  },
  {
   "cell_type": "code",
   "execution_count": 16,
   "id": "e0fa5141",
   "metadata": {},
   "outputs": [
    {
     "name": "stdout",
     "output_type": "stream",
     "text": [
      "2\n",
      "4\n",
      "8\n",
      "16\n",
      "32\n",
      "64\n",
      "128\n",
      "256\n",
      "512\n",
      "1024\n"
     ]
    }
   ],
   "source": [
    "for i in range(1,11):\n",
    "    print(2**i)"
   ]
  },
  {
   "cell_type": "code",
   "execution_count": 26,
   "id": "2ef75238",
   "metadata": {},
   "outputs": [
    {
     "name": "stdout",
     "output_type": "stream",
     "text": [
      "sunny\n",
      "hello\n",
      "9\n",
      "55\n"
     ]
    },
    {
     "data": {
      "text/plain": [
       "15"
      ]
     },
     "execution_count": 26,
     "metadata": {},
     "output_type": "execute_result"
    }
   ],
   "source": [
    "#functions\n",
    "# directly defined by def\n",
    "def fun1():\n",
    "    print(\"sunny\")\n",
    "fun1()  \n",
    "\n",
    "\n",
    "#function defination\n",
    "def fun(a):\n",
    "    print(a)\n",
    "fun(\"hello\")    \n",
    "\n",
    "\n",
    "# add function\n",
    "def add(a,b):\n",
    "    print(a+b)\n",
    "add(3,6)   \n",
    "\n",
    "\n",
    "#recursion\n",
    "\n",
    "sum=0\n",
    "for i in range(1,11):\n",
    "    sum=sum+i\n",
    "print(sum)\n",
    "\n",
    "def sum(a):\n",
    "    #base case\n",
    "    if a==1:\n",
    "        return 1\n",
    "    #recursive case\n",
    "    return a+sum(a-1)\n",
    "sum(5)"
   ]
  },
  {
   "cell_type": "code",
   "execution_count": 34,
   "id": "2a5cff13",
   "metadata": {},
   "outputs": [
    {
     "data": {
      "text/plain": [
       "1"
      ]
     },
     "execution_count": 34,
     "metadata": {},
     "output_type": "execute_result"
    }
   ],
   "source": [
    "#factorial\n",
    "def fact(a):\n",
    "    if a==1 or a==0:\n",
    "        return 1\n",
    "    \n",
    "    return a*fact(a-1)\n",
    "fact(0)"
   ]
  },
  {
   "cell_type": "markdown",
   "id": "05010a8b",
   "metadata": {},
   "source": [
    "#string\n"
   ]
  },
  {
   "cell_type": "code",
   "execution_count": 37,
   "id": "d55eeb2e",
   "metadata": {},
   "outputs": [
    {
     "name": "stdout",
     "output_type": "stream",
     "text": [
      "H\n",
      "E\n",
      "L\n",
      "L\n",
      "O\n"
     ]
    },
    {
     "data": {
      "text/plain": [
       "'Escape'"
      ]
     },
     "execution_count": 37,
     "metadata": {},
     "output_type": "execute_result"
    }
   ],
   "source": [
    "a=(\"HELLO\")\n",
    "for i in a:\n",
    "    print(i)\n"
   ]
  },
  {
   "cell_type": "code",
   "execution_count": 46,
   "id": "d40794c3",
   "metadata": {},
   "outputs": [
    {
     "name": "stdout",
     "output_type": "stream",
     "text": [
      "       tharun  bhukya     \n",
      "tharun  bhukya\n"
     ]
    }
   ],
   "source": [
    "#if space  is given then space also there in output\n",
    "b=input(\"your name = \") \n",
    "\n",
    "print(b)\n",
    "#does not eliminate spaces in between \n",
    "print(b.strip())\n",
    "#another way\n",
    "b=input().strip()"
   ]
  },
  {
   "cell_type": "markdown",
   "id": "3123e12d",
   "metadata": {},
   "source": [
    "# data structures\n",
    "## tuples\n",
    "## list\n",
    "## sets\n",
    "## dict\n"
   ]
  },
  {
   "cell_type": "markdown",
   "id": "2ecb2a2c",
   "metadata": {},
   "source": [
    "### mutable and immutable\n",
    "#### mutable means we can update values \n",
    "#### immutable means we can't update the values\n",
    "\n"
   ]
  },
  {
   "cell_type": "code",
   "execution_count": 52,
   "id": "89c68327",
   "metadata": {},
   "outputs": [
    {
     "name": "stdout",
     "output_type": "stream",
     "text": [
      "(2, 4, 5, 6, 78)\n",
      "4\n",
      "(2, 4, 5, 6, 78, 'tharun', 'sunny', 'bunny', 'soniya')\n"
     ]
    }
   ],
   "source": [
    "#tuples\n",
    "a=(2,4,5,6,78)\n",
    "print(a)\n",
    "type(a)\n",
    "print(a[1])\n",
    "#a[1]=366 we cant update because tuple is immutable\n",
    "# we add two tuples\n",
    "b=(\"tharun\",\"sunny\",\"bunny\",\"soniya\")\n",
    "print(a+b)"
   ]
  },
  {
   "cell_type": "code",
   "execution_count": 65,
   "id": "1f12ad5d",
   "metadata": {},
   "outputs": [
    {
     "name": "stdout",
     "output_type": "stream",
     "text": [
      "[1, 2, 3, 4, 5, 88]\n",
      "3\n",
      "[1, 2, 200, 4, 5, 88]\n",
      "6\n",
      "[11, 12, 210, 14, 15, 98]\n",
      "[21, 22, 220, 24, 25, 108]\n",
      "[21, 22, 220, 24, 25, 108, 100]\n",
      "[21, 22, 24, 25, 100, 108, 220]\n",
      "[220, 108, 100, 25, 24, 22, 21]\n",
      "[220, 108, 3, 100, 25, 24, 22, 21]\n"
     ]
    },
    {
     "data": {
      "text/plain": [
       "220"
      ]
     },
     "execution_count": 65,
     "metadata": {},
     "output_type": "execute_result"
    }
   ],
   "source": [
    "#list\n",
    "# mutable list we can change  values inside the list\n",
    "a=[1,2,3,4,5,88]\n",
    "print(a)\n",
    "type(a)\n",
    "print(a[2])\n",
    "a[2]=200\n",
    "print(a)\n",
    "# we can increment each value by some value\n",
    "print(len(a))\n",
    "for i in range(len(a)):\n",
    "    a[i]+=10\n",
    "print(a)\n",
    "#another way to increment the value in list\n",
    "# list comprehension\n",
    "a=[i+10 for i in a]\n",
    "print (a)\n",
    "#we can add same as tupe\n",
    "a.append(100)\n",
    "print(a)\n",
    "\n",
    "a.sort()\n",
    "print(a)\n",
    "a.reverse()\n",
    "print(a)\n",
    "a.count(21)\n",
    "a.insert(2,3)\n",
    "print(a)\n",
    "print(min(a))\n",
    "print(max(a))\n"
   ]
  },
  {
   "cell_type": "code",
   "execution_count": 67,
   "id": "dd557ded",
   "metadata": {},
   "outputs": [
    {
     "name": "stdout",
     "output_type": "stream",
     "text": [
      "{1, 3, 4, 5, 6, 7, 23}\n"
     ]
    },
    {
     "data": {
      "text/plain": [
       "{1, 3, 4, 5, 6, 7, 23, 67}"
      ]
     },
     "execution_count": 67,
     "metadata": {},
     "output_type": "execute_result"
    }
   ],
   "source": [
    "#sets\n",
    "s={1,1,3,4,23,5,23,3,4,5,6,7}\n",
    "print(s)\n",
    "# set remove the duplicate values from set\n",
    "s.add(67)\n",
    "s"
   ]
  },
  {
   "cell_type": "code",
   "execution_count": 83,
   "id": "501f71eb",
   "metadata": {},
   "outputs": [
    {
     "name": "stdout",
     "output_type": "stream",
     "text": [
      "11\n"
     ]
    },
    {
     "data": {
      "text/plain": [
       "4"
      ]
     },
     "execution_count": 83,
     "metadata": {},
     "output_type": "execute_result"
    }
   ],
   "source": [
    "a=[1,2,3,4,5,5,4,3,5,5,1]\n",
    "print(len(a))\n",
    "b=max(a)\n",
    "a.count(b)\n",
    "\n",
    "      "
   ]
  },
  {
   "cell_type": "code",
   "execution_count": 82,
   "id": "2f8279ab",
   "metadata": {},
   "outputs": [
    {
     "name": "stdout",
     "output_type": "stream",
     "text": [
      "4\n"
     ]
    }
   ],
   "source": [
    "# another method\n",
    "c=[1,2,3,4,5,6,1,3,6,3,6,3,6]\n",
    "n=max(c)\n",
    "count=0\n",
    "for i in c :\n",
    "    if i==n:\n",
    "        count+=1\n",
    "print(count)  "
   ]
  },
  {
   "cell_type": "code",
   "execution_count": null,
   "id": "def92406",
   "metadata": {},
   "outputs": [],
   "source": [
    "#army game\n"
   ]
  },
  {
   "cell_type": "code",
   "execution_count": 93,
   "id": "9b1b2d41",
   "metadata": {},
   "outputs": [
    {
     "name": "stdout",
     "output_type": "stream",
     "text": [
      "13\n",
      "0\n",
      "1\n",
      "1\n",
      "2\n",
      "3\n",
      "5\n",
      "8\n",
      "13\n",
      "21\n",
      "34\n"
     ]
    }
   ],
   "source": [
    "#recursion\n",
    "# fibonacci\n",
    "def fib(a):\n",
    "    if a==0 :\n",
    "        return 0;\n",
    "    if a==1:\n",
    "        return 1\n",
    "    return fib(a-2)+fib(a-1)\n",
    "print(fib(7))\n",
    "\n",
    "for i in range(10):\n",
    "    print(fib(i))"
   ]
  },
  {
   "cell_type": "markdown",
   "id": "fccd520d",
   "metadata": {},
   "source": [
    "### dictionaries\n"
   ]
  },
  {
   "cell_type": "code",
   "execution_count": null,
   "id": "2c0ec91c",
   "metadata": {},
   "outputs": [],
   "source": []
  },
  {
   "cell_type": "code",
   "execution_count": 7,
   "id": "3ef93971",
   "metadata": {},
   "outputs": [
    {
     "name": "stdout",
     "output_type": "stream",
     "text": [
      "{1: 'tharun', 2: 'sunny', 3: 'bunny'}\n",
      "<class 'dict'>\n",
      "{1: 'petti', 2: 'sunny', 3: 'bunny'}\n",
      "dict_keys([1, 2, 3])\n",
      "dict_values(['petti', 'sunny', 'bunny'])\n",
      "1\n",
      "2\n",
      "3\n",
      "petti\n",
      "sunny\n",
      "bunny\n"
     ]
    }
   ],
   "source": [
    "#dictionaries\n",
    "# -->keys && -->values\n",
    "# keys are unique\n",
    "\n",
    "a={1:'tharun',2:'sunny',3:'bunny'}\n",
    "print(a)\n",
    "print(type(a))\n",
    "a[1]='petti'\n",
    "print(a)\n",
    "print(a.keys())\n",
    "print(a.values())\n",
    "for i in a.keys():\n",
    "    print(i)\n",
    "for i in a.keys():\n",
    "    print(a[i])\n",
    "    "
   ]
  },
  {
   "cell_type": "code",
   "execution_count": 12,
   "id": "3970ce17",
   "metadata": {},
   "outputs": [
    {
     "name": "stdout",
     "output_type": "stream",
     "text": [
      "{'mango': 100, 'apple': 200, 'banana': 300, 'papaya': 50}\n",
      "dict_keys(['mango', 'apple', 'banana', 'papaya'])\n",
      "dict_values([100, 200, 300, 50])\n",
      "dict_values([100, 150, 300, 50])\n",
      "dict_values([70, 120, 270, 20])\n"
     ]
    }
   ],
   "source": [
    "b={\"mango\":100,\"apple\":200,\"banana\":300,\"papaya\":50}\n",
    "print(b)\n",
    "print(b.keys())\n",
    "print(b.values())\n",
    "b['apple']=150\n",
    "print(b.values())\n",
    "for i in b.keys():\n",
    "    b[i]-=30\n",
    "print(b.values())    "
   ]
  },
  {
   "cell_type": "code",
   "execution_count": 20,
   "id": "719705d4",
   "metadata": {},
   "outputs": [
    {
     "name": "stdout",
     "output_type": "stream",
     "text": [
      "[300, 500, 790]\n",
      "<class 'list'>\n",
      "790\n",
      "{'a': 1, 'b': 2, 'c': 3, 'd': 4}\n",
      "{1: 'a', 2: 'b', 3: 'c', 4: 'd'}\n",
      "<class 'dict'>\n"
     ]
    }
   ],
   "source": [
    "b={\"mango\":100,\"apple\":200,\"banana\":[300,500,790],\"papaya\":50}\n",
    "print(b['banana'])\n",
    "print(type(b['banana']))\n",
    "print(b['banana'][2])\n",
    "#convert 2 lists in dictionary without any function\n",
    "l1=[1,2,3,4]\n",
    "l2=['a','b','c','d']\n",
    "d={}\n",
    "for i in range(len(l2)):\n",
    "    d[l2[i]]=l1[i]\n",
    "print(d)\n",
    "#using zip function\n",
    "print(dict(zip(l1,l2)))\n",
    "print(type(d))"
   ]
  },
  {
   "cell_type": "markdown",
   "id": "940357d1",
   "metadata": {},
   "source": [
    "### sliccing\n"
   ]
  },
  {
   "cell_type": "code",
   "execution_count": 39,
   "id": "451380f0",
   "metadata": {},
   "outputs": [
    {
     "name": "stdout",
     "output_type": "stream",
     "text": [
      "sunnybunny\n",
      "sunn\n",
      "nnybunny\n",
      "nnyb\n",
      "y\n",
      "ynnubynnus\n",
      "[0, 1, 2, 3, 4, 5, 6, 7, 8, 9]\n",
      "[0, 1, 2, 3, 4, 5, 6]\n",
      "[1, 2, 3, 4, 5, 6, 7]\n",
      "[9, 8, 7, 6, 5, 4, 3, 2, 1, 0]\n",
      "       bhukya tharun pooni   \n",
      "bhukya tharun pooni\n",
      "['bhukya', 'tharun', 'pooni']\n",
      "<class 'list'>\n"
     ]
    }
   ],
   "source": [
    "s='sunnybunny'\n",
    "print(s[:])\n",
    "print(s[:4])\n",
    "print(s[2:])\n",
    "print(s[2:6])\n",
    "print(s[-1])\n",
    "#check for palindrome\n",
    "#reversing the string\n",
    "c='ababbaba'\n",
    "c==c[ : : -1]\n",
    "#reversed the sunnybunny\n",
    "print(s[ : : -1])\n",
    "#palindrome\n",
    "def palindrome(a):\n",
    "    return a==a[ : : -1]\n",
    "palindrome('abbba')\n",
    "#list\n",
    "l=list(range(10))\n",
    "print(l)\n",
    "print(l[:7])\n",
    "print(l[1:8])\n",
    "print(l[: : -1])\n",
    "#important when taling input\n",
    "#strip && split functions\n",
    "s='       bhukya tharun pooni   '\n",
    "print(s)\n",
    "print(s.strip())\n",
    "print(s.split())\n",
    "print(type(s.split()))\n",
    "\n"
   ]
  },
  {
   "cell_type": "markdown",
   "id": "6c35c36d",
   "metadata": {},
   "source": []
  }
 ],
 "metadata": {
  "kernelspec": {
   "display_name": "Python 3 (ipykernel)",
   "language": "python",
   "name": "python3"
  },
  "language_info": {
   "codemirror_mode": {
    "name": "ipython",
    "version": 3
   },
   "file_extension": ".py",
   "mimetype": "text/x-python",
   "name": "python",
   "nbconvert_exporter": "python",
   "pygments_lexer": "ipython3",
   "version": "3.11.5"
  }
 },
 "nbformat": 4,
 "nbformat_minor": 5
}
